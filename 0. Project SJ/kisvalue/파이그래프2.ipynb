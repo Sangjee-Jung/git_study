{
 "cells": [
  {
   "cell_type": "code",
   "execution_count": 1,
   "id": "bc9f29bd",
   "metadata": {},
   "outputs": [],
   "source": [
    "import matplotlib.pyplot as plt\n",
    "import numpy as np"
   ]
  },
  {
   "cell_type": "code",
   "execution_count": 2,
   "id": "8555df9f",
   "metadata": {},
   "outputs": [],
   "source": [
    "## 데이터 준비\n",
    "colors = ['red','yellow','purple','burlywood','lightcoral'] ## 색상\n",
    "labels = ['Apple','Banana','Grape','Pear','Peach'] ## 라벨\n",
    "frequency = [20,3,71,3,3] ## 빈도"
   ]
  },
  {
   "cell_type": "code",
   "execution_count": 3,
   "id": "206e4591",
   "metadata": {},
   "outputs": [
    {
     "data": {
      "image/png": "[encoded data removed]",
      "text/plain": [
       "<Figure size 576x576 with 1 Axes>"
      ]
     },
     "metadata": {},
     "output_type": "display_data"
    }
   ],
   "source": [
    "fig = plt.figure(figsize=(8,8)) ## 캔버스 생성\n",
    "fig.set_facecolor('white') ## 캔버스 배경색을 하얀색으로 설정\n",
    "ax = fig.add_subplot() ## 프레임 생성"
   ]
  },
  {
   "cell_type": "code",
   "execution_count": 14,
   "id": "815c78fe",
   "metadata": {},
   "outputs": [],
   "source": [
    "pie = ax.pie(frequency, ## 파이차트 출력\n",
    "       startangle=90, ## 시작점을 90도(degree)로 지정\n",
    "       counterclock=False, ## 시계방향으로 그려짐\n",
    "       colors = colors, ## 색상 지정\n",
    "       )"
   ]
  },
  {
   "cell_type": "code",
   "execution_count": 15,
   "id": "ebc91ad3",
   "metadata": {},
   "outputs": [],
   "source": [
    "total = np.sum(frequency) ## 빈도수 합\n",
    " \n",
    "threshold = 5 ## 상한선 비율\n",
    "sum_pct = 0 ## 퍼센티지"
   ]
  },
  {
   "cell_type": "code",
   "execution_count": 16,
   "id": "66edd067",
   "metadata": {},
   "outputs": [],
   "source": [
    "bbox_props = dict(boxstyle='square',fc='w',ec='w',alpha=0) ## annotation 박스 스타일"
   ]
  },
  {
   "cell_type": "code",
   "execution_count": 17,
   "id": "f6e3e818",
   "metadata": {},
   "outputs": [
    {
     "data": {
      "image/png": "[encoded data removed]",
      "text/plain": [
       "<Figure size 432x288 with 1 Axes>"
      ]
     },
     "metadata": {
      "needs_background": "light"
     },
     "output_type": "display_data"
    }
   ],
   "source": [
    "## annotation 설정\n",
    "config = dict(arrowprops=dict(arrowstyle='-'),bbox=bbox_props,va='center')\n",
    " \n",
    "for i,l in enumerate(labels):\n",
    "    ang1, ang2 = ax.patches[i].theta1, ax.patches[i].theta2 ## 파이의 시작 각도와 끝 각도\n",
    "    center, r = ax.patches[i].center, ax.patches[i].r ## 원의 중심 좌표와 반지름길이\n",
    "    \n",
    "    if i < len(labels) - 1:\n",
    "        sum_pct += float(f'{frequency[i]/total*100:.2f}')\n",
    "        text = f'{frequency[i]/total*100:.2f}%'\n",
    "    else: ## 마지막 파이 조각은 퍼센티지의 합이 100이 되도록 비율을 조절\n",
    "        text = f'{100-sum_pct:.2f}%'\n",
    "    \n",
    "    ## 비율 상한선보다 작은 것들은 Annotation으로 만든다.\n",
    "    if frequency[i]/total*100 < threshold:\n",
    "        ang = (ang1+ang2)/2 ## 중심각\n",
    "        x = np.cos(np.deg2rad(ang)) ## Annotation의 끝점에 해당하는 x좌표\n",
    "        y = np.sin(np.deg2rad(ang)) ## Annotation의 끝점에 해당하는 y좌표\n",
    "        \n",
    "        ## x좌표가 양수이면 즉 y축을 중심으로 오른쪽에 있으면 왼쪽 정렬\n",
    "        ## x좌표가 음수이면 즉 y축을 중심으로 왼쪽에 있으면 오른쪽 정렬\n",
    "        horizontalalignment = {-1: \"right\", 1: \"left\"}[int(np.sign(x))]\n",
    "        connectionstyle = \"angle,angleA=0,angleB={}\".format(ang) ## 시작점과 끝점 연결 스타일\n",
    "        config[\"arrowprops\"].update({\"connectionstyle\": connectionstyle}) ## \n",
    "        ax.annotate(text, xy=(x, y), xytext=(1.5*x, 1.2*y),\n",
    "                    horizontalalignment=horizontalalignment, **config)\n",
    "    else:\n",
    "        x = (r/2)*np.cos(np.pi/180*((ang1+ang2)/2)) + center[0] ## 텍스트 x좌표\n",
    "        y = (r/2)*np.sin(np.pi/180*((ang1+ang2)/2)) + center[1] ## 텍스트 y좌표\n",
    "        ax.text(x,y,text,ha='center',va='center',fontsize=12)\n",
    "    \n",
    "plt.legend(pie[0],labels,loc='upper right') ## 범례\n",
    "plt.show()"
   ]
  },
  {
   "cell_type": "code",
   "execution_count": null,
   "id": "74f0fb12",
   "metadata": {},
   "outputs": [],
   "source": []
  }
 ],
 "metadata": {
  "kernelspec": {
   "display_name": "Python 3",
   "language": "python",
   "name": "python3"
  },
  "language_info": {
   "codemirror_mode": {
    "name": "ipython",
    "version": 3
   },
   "file_extension": ".py",
   "mimetype": "text/x-python",
   "name": "python",
   "nbconvert_exporter": "python",
   "pygments_lexer": "ipython3",
   "version": "3.8.8"
  }
 },
 "nbformat": 4,
 "nbformat_minor": 5
}
