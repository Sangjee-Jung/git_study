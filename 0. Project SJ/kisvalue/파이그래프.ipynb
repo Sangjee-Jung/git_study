{
 "cells": [
  {
   "cell_type": "code",
   "execution_count": 9,
   "id": "dc419772",
   "metadata": {},
   "outputs": [],
   "source": [
    "import matplotlib.pyplot as plt"
   ]
  },
  {
   "cell_type": "code",
   "execution_count": 41,
   "id": "8ce997ee",
   "metadata": {},
   "outputs": [],
   "source": [
    "labels = ['GP외(제품)덴탈', 'MEPFIL(제품)봉합사', 'LAB ITEM(상품등)덴탈', '기타']\n",
    "sizes = [41.13, 34, 14.37, 10.5]\n",
    "explode = [0.05, 0.05, 0.05, 0.05]\n",
    "colors = ['#ff9999', '#ffc000', '#8fd9b6', '#d395d0']\n",
    "wedgeprops={'width': 0.7, 'edgecolor': 'w', 'linewidth': 5}"
   ]
  },
  {
   "cell_type": "code",
   "execution_count": 46,
   "id": "89ba8e1c",
   "metadata": {},
   "outputs": [
    {
     "data": {
      "text/plain": [
       "([<matplotlib.patches.Wedge at 0x1eca8b02160>,\n",
       "  <matplotlib.patches.Wedge at 0x1eca8b02850>,\n",
       "  <matplotlib.patches.Wedge at 0x1eca8b02ee0>,\n",
       "  <matplotlib.patches.Wedge at 0x1eca8b105e0>],\n",
       " [Text(1.0575675775232558, 0.3025736587536871, 'GP외(제품)덴탈'),\n",
       "  Text(-0.5377846146224852, -0.9595768381298838, 'MEPFIL(제품)봉합사'),\n",
       "  Text(-0.9858458619500294, 0.48796304826903, 'LAB ITEM(상품등)덴탈'),\n",
       "  Text(-0.3563096121246574, 1.0406937399194716, '기타')],\n",
       " [Text(0.5768550422854122, 0.16504017750201114, '41.1%'),\n",
       "  Text(-0.29333706252135555, -0.5234055480708456, '34.0%'),\n",
       "  Text(-0.5377341065181978, 0.26616166269219815, '14.4%'),\n",
       "  Text(-0.19435069752254036, 0.5676511308651662, '10.5%')])"
      ]
     },
     "execution_count": 46,
     "metadata": {},
     "output_type": "execute_result"
    },
    {
     "data": {
      "image/png": "[encoded data removed]",
      "text/plain": [
       "<Figure size 432x288 with 1 Axes>"
      ]
     },
     "metadata": {},
     "output_type": "display_data"
    }
   ],
   "source": [
    "fig1, ax1 = plt.subplots()\n",
    "ax1.pie(sizes, labels=labels, autopct='%1.1f%%',\n",
    "        shadow=False, startangle=90, counterclock=False,colors = colors,)"
   ]
  },
  {
   "cell_type": "code",
   "execution_count": 14,
   "id": "8e2f8bcc",
   "metadata": {},
   "outputs": [
    {
     "data": {
      "text/plain": [
       "(-1.1223026980387458,\n",
       " 1.1025593688103639,\n",
       " -1.1040871538811647,\n",
       " 1.1001946263752935)"
      ]
     },
     "execution_count": 14,
     "metadata": {},
     "output_type": "execute_result"
    }
   ],
   "source": [
    "ax1.axis('equal')"
   ]
  },
  {
   "cell_type": "code",
   "execution_count": 15,
   "id": "02baa165",
   "metadata": {},
   "outputs": [],
   "source": [
    "plt.show()"
   ]
  },
  {
   "cell_type": "code",
   "execution_count": 21,
   "id": "4f5ead2c",
   "metadata": {},
   "outputs": [],
   "source": [
    "import pandas as pd\n",
    "import numpy as np\n",
    "df = pd.DataFrame(columns = [\"A\",\"B\",\"C\"], index = [\"a\",\"b\",\"c\"])"
   ]
  },
  {
   "cell_type": "code",
   "execution_count": 16,
   "id": "f2a43503",
   "metadata": {},
   "outputs": [
    {
     "data": {
      "text/html": [
       "<div>\n",
       "<style scoped>\n",
       "    .dataframe tbody tr th:only-of-type {\n",
       "        vertical-align: middle;\n",
       "    }\n",
       "\n",
       "    .dataframe tbody tr th {\n",
       "        vertical-align: top;\n",
       "    }\n",
       "\n",
       "    .dataframe thead th {\n",
       "        text-align: right;\n",
       "    }\n",
       "</style>\n",
       "<table border=\"1\" class=\"dataframe\">\n",
       "  <thead>\n",
       "    <tr style=\"text-align: right;\">\n",
       "      <th></th>\n",
       "      <th>A</th>\n",
       "      <th>B</th>\n",
       "      <th>C</th>\n",
       "    </tr>\n",
       "  </thead>\n",
       "  <tbody>\n",
       "    <tr>\n",
       "      <th>a</th>\n",
       "      <td>NaN</td>\n",
       "      <td>NaN</td>\n",
       "      <td>NaN</td>\n",
       "    </tr>\n",
       "    <tr>\n",
       "      <th>b</th>\n",
       "      <td>NaN</td>\n",
       "      <td>NaN</td>\n",
       "      <td>NaN</td>\n",
       "    </tr>\n",
       "    <tr>\n",
       "      <th>c</th>\n",
       "      <td>NaN</td>\n",
       "      <td>NaN</td>\n",
       "      <td>NaN</td>\n",
       "    </tr>\n",
       "  </tbody>\n",
       "</table>\n",
       "</div>"
      ],
      "text/plain": [
       "     A    B    C\n",
       "a  NaN  NaN  NaN\n",
       "b  NaN  NaN  NaN\n",
       "c  NaN  NaN  NaN"
      ]
     },
     "metadata": {},
     "output_type": "display_data"
    }
   ],
   "source": [
    "display(df)"
   ]
  },
  {
   "cell_type": "code",
   "execution_count": 24,
   "id": "a9ec7553",
   "metadata": {},
   "outputs": [
    {
     "data": {
      "text/plain": [
       "True"
      ]
     },
     "execution_count": 24,
     "metadata": {},
     "output_type": "execute_result"
    }
   ],
   "source": [
    "df.loc['a','A'] is np.nan"
   ]
  },
  {
   "cell_type": "code",
   "execution_count": null,
   "id": "7f8774a0",
   "metadata": {},
   "outputs": [],
   "source": []
  }
 ],
 "metadata": {
  "kernelspec": {
   "display_name": "Python 3",
   "language": "python",
   "name": "python3"
  },
  "language_info": {
   "codemirror_mode": {
    "name": "ipython",
    "version": 3
   },
   "file_extension": ".py",
   "mimetype": "text/x-python",
   "name": "python",
   "nbconvert_exporter": "python",
   "pygments_lexer": "ipython3",
   "version": "3.8.8"
  }
 },
 "nbformat": 4,
 "nbformat_minor": 5
}
